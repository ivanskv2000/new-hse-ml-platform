{
 "cells": [
  {
   "cell_type": "code",
   "execution_count": 3,
   "metadata": {},
   "outputs": [],
   "source": [
    "import argparse\n",
    "from artifacts.predict_tag import predict_tag, load_data, tfidf_transform\n",
    "import json"
   ]
  },
  {
   "cell_type": "code",
   "execution_count": 10,
   "metadata": {},
   "outputs": [],
   "source": [
    "import numpy as np\n",
    "import pandas as pd\n",
    "import csv"
   ]
  },
  {
   "cell_type": "code",
   "execution_count": 6,
   "metadata": {},
   "outputs": [],
   "source": [
    "data_col = 'intent'\n",
    "\n",
    "df = pd.read_json('sample_data/conala-test.json')\n",
    "df = df[[data_col]].rename(columns={data_col: 'code_block'})"
   ]
  },
  {
   "cell_type": "code",
   "execution_count": 15,
   "metadata": {},
   "outputs": [],
   "source": [
    "df.to_csv('sample_data/input.csv', index=False, quoting=csv.QUOTE_ALL)"
   ]
  },
  {
   "cell_type": "code",
   "execution_count": 16,
   "metadata": {},
   "outputs": [],
   "source": [
    "path_to_model_dir = '.'\n",
    "data_input_path = 'sample_data/'\n",
    "data_output_path = 'sample_data/'\n",
    "model_type = 'svm'"
   ]
  },
  {
   "cell_type": "code",
   "execution_count": 17,
   "metadata": {},
   "outputs": [
    {
     "name": "stdout",
     "output_type": "stream",
     "text": [
      "loaded\n",
      "the model has been loaded\n",
      "predictions were calculated\n",
      "finished\n"
     ]
    }
   ],
   "source": [
    "predict_tag(data_input_path, data_output_path, path_to_model_dir, model_type)"
   ]
  },
  {
   "cell_type": "code",
   "execution_count": 19,
   "metadata": {},
   "outputs": [],
   "source": [
    "out_df = pd.read_csv('sample_data/output.csv')\n",
    "out_df[out_df['visualization']==1].head(10)"
   ]
  },
  {
   "attachments": {},
   "cell_type": "markdown",
   "metadata": {},
   "source": [
    "# Lime"
   ]
  },
  {
   "cell_type": "code",
   "execution_count": 41,
   "metadata": {},
   "outputs": [],
   "source": [
    "import cloudpickle\n",
    "import pickle\n",
    "import os\n",
    "from lime import lime_text\n",
    "from sklearn.pipeline import make_pipeline\n",
    "from lime.lime_text import LimeTextExplainer"
   ]
  },
  {
   "cell_type": "code",
   "execution_count": 39,
   "metadata": {},
   "outputs": [],
   "source": [
    "DATASET_PATH = os.path.join(data_input_path, \"input.csv\")\n",
    "MODEL = \"svm\"\n",
    "GRAPH_VER = 5\n",
    "# svm or logreg\n",
    "\n",
    "TAGS_TO_PREDICT = [\n",
    "    \"import\",\n",
    "    \"data_import\",\n",
    "    \"data_export\",\n",
    "    \"preprocessing\",\n",
    "    \"visualization\",\n",
    "    \"model\",\n",
    "    \"deep_learning_model\",\n",
    "    \"train\",\n",
    "    \"predict\",\n",
    "]\n",
    "\n",
    "MODEL_DIR = os.path.join(\n",
    "    path_to_model_dir,\n",
    "    \"artifacts/models/{}_regex_graph_v{}.sav\".format(MODEL, GRAPH_VER),\n",
    ")\n",
    "TFIDF_DIR = os.path.join(\n",
    "    path_to_model_dir,\n",
    "    \"artifacts/models/tfidf_{}_graph_v{}.pickle\".format(MODEL, GRAPH_VER),\n",
    ")\n",
    "CODE_COLUMN = \"code_block\"\n",
    "\n",
    "df = load_data(DATASET_PATH)\n",
    "code_blocks = df[CODE_COLUMN]"
   ]
  },
  {
   "cell_type": "code",
   "execution_count": 35,
   "metadata": {},
   "outputs": [
    {
     "name": "stderr",
     "output_type": "stream",
     "text": [
      "/var/folders/63/q32zgnw527g9547scbl9tby00000gn/T/ipykernel_53643/2354969462.py:1: DeprecationWarning: Please use `csr_matrix` from the `scipy.sparse` namespace, the `scipy.sparse.csr` namespace is deprecated.\n",
      "  tfidf = cloudpickle.load(open(TFIDF_DIR, \"rb\"))\n",
      "/var/folders/63/q32zgnw527g9547scbl9tby00000gn/T/ipykernel_53643/2354969462.py:2: DeprecationWarning: Please use `csr_matrix` from the `scipy.sparse` namespace, the `scipy.sparse.csr` namespace is deprecated.\n",
      "  clf = pickle.load(open(MODEL_DIR, \"rb\"))\n"
     ]
    }
   ],
   "source": [
    "tfidf = cloudpickle.load(open(TFIDF_DIR, \"rb\"))\n",
    "clf = pickle.load(open(MODEL_DIR, \"rb\"))"
   ]
  },
  {
   "cell_type": "code",
   "execution_count": 40,
   "metadata": {},
   "outputs": [],
   "source": [
    "c = make_pipeline(tfidf, clf)"
   ]
  },
  {
   "cell_type": "code",
   "execution_count": 53,
   "metadata": {},
   "outputs": [
    {
     "ename": "AttributeError",
     "evalue": "'MultiOutputRegressor' object has no attribute 'predict_log_proba'",
     "output_type": "error",
     "traceback": [
      "\u001b[0;31m---------------------------------------------------------------------------\u001b[0m",
      "\u001b[0;31mAttributeError\u001b[0m                            Traceback (most recent call last)",
      "Cell \u001b[0;32mIn[53], line 1\u001b[0m\n\u001b[0;32m----> 1\u001b[0m c\u001b[39m.\u001b[39;49mpredict_log_proba(df[CODE_COLUMN])\n",
      "File \u001b[0;32m~/Library/Caches/pypoetry/virtualenvs/nlp-nl2ml-4TSfhoQw-py3.8/lib/python3.8/site-packages/sklearn/utils/metaestimators.py:110\u001b[0m, in \u001b[0;36m_IffHasAttrDescriptor.__get__\u001b[0;34m(self, obj, type)\u001b[0m\n\u001b[1;32m    108\u001b[0m         \u001b[39mcontinue\u001b[39;00m\n\u001b[1;32m    109\u001b[0m     \u001b[39melse\u001b[39;00m:\n\u001b[0;32m--> 110\u001b[0m         \u001b[39mgetattr\u001b[39;49m(delegate, \u001b[39mself\u001b[39;49m\u001b[39m.\u001b[39;49mattribute_name)\n\u001b[1;32m    111\u001b[0m         \u001b[39mbreak\u001b[39;00m\n\u001b[1;32m    112\u001b[0m \u001b[39melse\u001b[39;00m:\n",
      "\u001b[0;31mAttributeError\u001b[0m: 'MultiOutputRegressor' object has no attribute 'predict_log_proba'"
     ]
    }
   ],
   "source": [
    "c.predict(df[CODE_COLUMN])"
   ]
  },
  {
   "cell_type": "code",
   "execution_count": 74,
   "metadata": {},
   "outputs": [],
   "source": [
    "c2 = make_pipeline(tfidf, clf.estimators_[3])"
   ]
  },
  {
   "cell_type": "code",
   "execution_count": 75,
   "metadata": {},
   "outputs": [],
   "source": [
    "explainer = LimeTextExplainer()"
   ]
  },
  {
   "cell_type": "code",
   "execution_count": 79,
   "metadata": {},
   "outputs": [
    {
     "name": "stdout",
     "output_type": "stream",
     "text": [
      "Document id: 84\n",
      "Probability(christian) = 0.0\n"
     ]
    }
   ],
   "source": [
    "idx = 84\n",
    "exp = explainer.explain_instance(df[CODE_COLUMN][idx], c2.predict_proba, num_features=6)\n",
    "print('Document id: %d' % idx)\n",
    "print('Probability(christian) =', c2.predict_proba([df[CODE_COLUMN][idx]])[0][1])"
   ]
  },
  {
   "cell_type": "code",
   "execution_count": 85,
   "metadata": {},
   "outputs": [],
   "source": [
    "exp.save_to_file('HJDHW.html', text=True)"
   ]
  },
  {
   "attachments": {},
   "cell_type": "markdown",
   "metadata": {},
   "source": [
    "# Predict Tag (full inference)"
   ]
  },
  {
   "cell_type": "code",
   "execution_count": null,
   "metadata": {},
   "outputs": [],
   "source": [
    "parser = argparse.ArgumentParser(\n",
    "    description=\"Run pipeline for model NL2ML (tag prediction)\"\n",
    ")\n",
    "parser.add_argument(\n",
    "    \"-p\", \"--params\", type=str, help=\"path to request.json file with parameters\"\n",
    ")\n",
    "\n",
    "args = parser.parse_args()\n",
    "with open(args.params) as jf:\n",
    "    params = json.load(jf)\n",
    "\n",
    "\n",
    "model_types = [\n",
    "    \"svm\",\n",
    "    # \"logreg\",\n",
    "]\n",
    "\n",
    "path_to_model_dir = params[\"path_to_model_dir\"]\n",
    "data_input_path = params[\"data_input_path\"]\n",
    "data_output_path = params[\"data_output_path\"]\n",
    "\n",
    "model_type = params[\"model_parameters\"].get(\"model_type\", \"svm\")\n",
    "\n",
    "predict_tag(data_input_path, data_output_path, path_to_model_dir, model_type)"
   ]
  },
  {
   "cell_type": "code",
   "execution_count": null,
   "metadata": {},
   "outputs": [],
   "source": []
  }
 ],
 "metadata": {
  "kernelspec": {
   "display_name": "nlp-nl2ml-4TSfhoQw-py3.8",
   "language": "python",
   "name": "python3"
  },
  "language_info": {
   "codemirror_mode": {
    "name": "ipython",
    "version": 3
   },
   "file_extension": ".py",
   "mimetype": "text/x-python",
   "name": "python",
   "nbconvert_exporter": "python",
   "pygments_lexer": "ipython3",
   "version": "3.8.0"
  },
  "orig_nbformat": 4
 },
 "nbformat": 4,
 "nbformat_minor": 2
}
